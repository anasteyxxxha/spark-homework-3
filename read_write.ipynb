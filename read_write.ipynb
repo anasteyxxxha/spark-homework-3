{
 "cells": [
  {
   "cell_type": "code",
   "execution_count": 1,
   "id": "063098e6-d1cb-4437-895e-8f50e2009ddd",
   "metadata": {},
   "outputs": [],
   "source": [
    "from pyspark.sql import SparkSession"
   ]
  },
  {
   "cell_type": "code",
   "execution_count": 2,
   "id": "eb3deeee-239a-406e-aaf1-596a3878a400",
   "metadata": {},
   "outputs": [
    {
     "name": "stderr",
     "output_type": "stream",
     "text": [
      "Setting default log level to \"WARN\".\n",
      "To adjust logging level use sc.setLogLevel(newLevel). For SparkR, use setLogLevel(newLevel).\n",
      "24/12/26 17:27:50 WARN NativeCodeLoader: Unable to load native-hadoop library for your platform... using builtin-java classes where applicable\n"
     ]
    }
   ],
   "source": [
    "spark = SparkSession.builder\\\n",
    "    .enableHiveSupport()\\\n",
    "    .getOrCreate()"
   ]
  },
  {
   "cell_type": "code",
   "execution_count": 3,
   "id": "6da0f799-20b0-4a44-b8fe-2d50d31869ec",
   "metadata": {},
   "outputs": [],
   "source": [
    "sqlTable = spark.read.format(\"jdbc\") \\\n",
    "    .option(\"url\", \"jdbc:postgresql://metastore:5432/metastore\") \\\n",
    "    .option(\"dbtable\", \"information_schema.tables\") \\\n",
    "    .option(\"user\", \"jupyter\") \\\n",
    "    .option(\"password\", \"jupyter\") \\\n",
    "    .load()\n"
   ]
  },
  {
   "cell_type": "code",
   "execution_count": 4,
   "id": "471e4b28-19d8-4f95-9286-34c845fb0c7f",
   "metadata": {},
   "outputs": [
    {
     "name": "stderr",
     "output_type": "stream",
     "text": [
      "[Stage 0:>                                                          (0 + 1) / 1]\r"
     ]
    },
    {
     "name": "stdout",
     "output_type": "stream",
     "text": [
      "+-------------+------------+------------------+----------+----------------------------+--------------------+-------------------------+------------------------+----------------------+------------------+--------+-------------+\n",
      "|table_catalog|table_schema|        table_name|table_type|self_referencing_column_name|reference_generation|user_defined_type_catalog|user_defined_type_schema|user_defined_type_name|is_insertable_into|is_typed|commit_action|\n",
      "+-------------+------------+------------------+----------+----------------------------+--------------------+-------------------------+------------------------+----------------------+------------------+--------+-------------+\n",
      "|    metastore|      public|               DBS|BASE TABLE|                        null|                null|                     null|                    null|                  null|               YES|      NO|         null|\n",
      "|    metastore|      public|          DB_PRIVS|BASE TABLE|                        null|                null|                     null|                    null|                  null|               YES|      NO|         null|\n",
      "|    metastore|      public|              IDXS|BASE TABLE|                        null|                null|                     null|                    null|                  null|               YES|      NO|         null|\n",
      "|    metastore|      public|      INDEX_PARAMS|BASE TABLE|                        null|                null|                     null|                    null|                  null|               YES|      NO|         null|\n",
      "|    metastore|      public|      GLOBAL_PRIVS|BASE TABLE|                        null|                null|                     null|                    null|                  null|               YES|      NO|         null|\n",
      "|    metastore|      public|        PARTITIONS|BASE TABLE|                        null|                null|                     null|                    null|                  null|               YES|      NO|         null|\n",
      "|    metastore|      public|    PARTITION_KEYS|BASE TABLE|                        null|                null|                     null|                    null|                  null|               YES|      NO|         null|\n",
      "|    metastore|      public|    NUCLEUS_TABLES|BASE TABLE|                        null|                null|                     null|                    null|                  null|               YES|      NO|         null|\n",
      "|    metastore|      public|PARTITION_KEY_VALS|BASE TABLE|                        null|                null|                     null|                    null|                  null|               YES|      NO|         null|\n",
      "|    metastore|      public|  PARTITION_EVENTS|BASE TABLE|                        null|                null|                     null|                    null|                  null|               YES|      NO|         null|\n",
      "|    metastore|      public|             CTLGS|BASE TABLE|                        null|                null|                     null|                    null|                  null|               YES|      NO|         null|\n",
      "|    metastore|      public|    BUCKETING_COLS|BASE TABLE|                        null|                null|                     null|                    null|                  null|               YES|      NO|         null|\n",
      "|    metastore|      public|               CDS|BASE TABLE|                        null|                null|                     null|                    null|                  null|               YES|      NO|         null|\n",
      "|    metastore|      public|   DATABASE_PARAMS|BASE TABLE|                        null|                null|                     null|                    null|                  null|               YES|      NO|         null|\n",
      "|    metastore|      public|        PART_PRIVS|BASE TABLE|                        null|                null|                     null|                    null|                  null|               YES|      NO|         null|\n",
      "|    metastore|      public|             ROLES|BASE TABLE|                        null|                null|                     null|                    null|                  null|               YES|      NO|         null|\n",
      "|    metastore|  pg_catalog|  pg_foreign_table|BASE TABLE|                        null|                null|                     null|                    null|                  null|               YES|      NO|         null|\n",
      "|    metastore|      public|    PART_COL_PRIVS|BASE TABLE|                        null|                null|                     null|                    null|                  null|               YES|      NO|         null|\n",
      "|    metastore|      public|               SDS|BASE TABLE|                        null|                null|                     null|                    null|                  null|               YES|      NO|         null|\n",
      "|    metastore|      public|      SERDE_PARAMS|BASE TABLE|                        null|                null|                     null|                    null|                  null|               YES|      NO|         null|\n",
      "+-------------+------------+------------------+----------+----------------------------+--------------------+-------------------------+------------------------+----------------------+------------------+--------+-------------+\n",
      "only showing top 20 rows\n",
      "\n"
     ]
    },
    {
     "name": "stderr",
     "output_type": "stream",
     "text": [
      "                                                                                \r"
     ]
    }
   ],
   "source": [
    "sqlTable.show()"
   ]
  },
  {
   "cell_type": "code",
   "execution_count": 5,
   "id": "75f9ab78-6a59-4444-914f-c23463dec129",
   "metadata": {},
   "outputs": [
    {
     "name": "stdout",
     "output_type": "stream",
     "text": [
      "SLF4J: Class path contains multiple SLF4J bindings.\n",
      "SLF4J: Found binding in [jar:file:/opt/hive/lib/log4j-slf4j-impl-2.17.1.jar!/org/slf4j/impl/StaticLoggerBinder.class]\n",
      "SLF4J: Found binding in [jar:file:/opt/hadoop/share/hadoop/common/lib/slf4j-reload4j-1.7.36.jar!/org/slf4j/impl/StaticLoggerBinder.class]\n",
      "SLF4J: See http://www.slf4j.org/codes.html#multiple_bindings for an explanation.\n",
      "SLF4J: Actual binding is of type [org.apache.logging.slf4j.Log4jLoggerFactory]\n",
      "Hive Session ID = e7c22575-c1a3-4cce-be85-d048c793522a\n",
      "\n",
      "Logging initialized using configuration in jar:file:/opt/hive/lib/hive-common-3.1.3.jar!/hive-log4j2.properties Async: true\n",
      "Hive Session ID = 34c59854-8255-4377-9a1b-4532337759c3\n",
      "OK\n",
      "Time taken: 0.9 seconds\n"
     ]
    }
   ],
   "source": [
    "! hive -e 'CREATE TABLE inforamtion_table2 (\\\n",
    "  `table_catalog` string, \\\n",
    "  `table_schema` string, \\\n",
    "  `table_name` string, \\\n",
    "  `table_type` string, \\\n",
    "  `self_referencing_column_name` string, \\\n",
    "  `reference_generation` string,  \\\n",
    "  `user_defined_type_catalog` string,  \\\n",
    "  `user_defined_type_schema` string,  \\\n",
    "  `user_defined_type_name` string,  \\\n",
    "  `is_insertable_into rating` string,  \\\n",
    "  `is_typed` string,  \\\n",
    "  `commit_action` string  \\\n",
    "  ) \\\n",
    "  STORED AS ORC'"
   ]
  },
  {
   "cell_type": "code",
   "execution_count": null,
   "id": "809a5fe3-2172-4c50-8d6a-4faf65334bb6",
   "metadata": {},
   "outputs": [],
   "source": []
  },
  {
   "cell_type": "code",
   "execution_count": 6,
   "id": "44a47964-5e91-4392-b409-8c93dda1aaf5",
   "metadata": {},
   "outputs": [],
   "source": [
    "sqlTable.createOrReplaceTempView(\"mytempTable\") "
   ]
  },
  {
   "cell_type": "code",
   "execution_count": 7,
   "id": "fcdb017f-fa2f-4fb0-9d90-8c2114888757",
   "metadata": {},
   "outputs": [
    {
     "name": "stderr",
     "output_type": "stream",
     "text": [
      "24/12/26 17:35:53 WARN ResolveSessionCatalog: A Hive serde table will be created as there is no table provider specified. You can set spark.sql.legacy.createHiveTableByDefault to false so that native data source table will be created instead.\n",
      "                                                                                \r"
     ]
    }
   ],
   "source": [
    "spark.sql(\"create table mytable as select * from mytempTable;\");"
   ]
  },
  {
   "cell_type": "code",
   "execution_count": null,
   "id": "a25c18d4-023d-44b4-8086-8e0c0942fe4b",
   "metadata": {},
   "outputs": [],
   "source": []
  },
  {
   "cell_type": "code",
   "execution_count": 8,
   "id": "817ba19c-6491-4277-a047-f4c1155cc8d4",
   "metadata": {},
   "outputs": [],
   "source": [
    "sqlTable.write.mode(\"overwrite\").format('orc').saveAsTable(\"default.inforamtion_table2\")"
   ]
  },
  {
   "cell_type": "code",
   "execution_count": 10,
   "id": "05a550c7-88f7-4b5c-814f-515ff0b68f16",
   "metadata": {},
   "outputs": [
    {
     "name": "stdout",
     "output_type": "stream",
     "text": [
      "+-------------+------------+------------------+----------+----------------------------+--------------------+-------------------------+------------------------+----------------------+------------------+--------+-------------+\n",
      "|table_catalog|table_schema|        table_name|table_type|self_referencing_column_name|reference_generation|user_defined_type_catalog|user_defined_type_schema|user_defined_type_name|is_insertable_into|is_typed|commit_action|\n",
      "+-------------+------------+------------------+----------+----------------------------+--------------------+-------------------------+------------------------+----------------------+------------------+--------+-------------+\n",
      "|    metastore|      public|               DBS|BASE TABLE|                        null|                null|                     null|                    null|                  null|               YES|      NO|         null|\n",
      "|    metastore|      public|          DB_PRIVS|BASE TABLE|                        null|                null|                     null|                    null|                  null|               YES|      NO|         null|\n",
      "|    metastore|      public|              IDXS|BASE TABLE|                        null|                null|                     null|                    null|                  null|               YES|      NO|         null|\n",
      "|    metastore|      public|      INDEX_PARAMS|BASE TABLE|                        null|                null|                     null|                    null|                  null|               YES|      NO|         null|\n",
      "|    metastore|      public|      GLOBAL_PRIVS|BASE TABLE|                        null|                null|                     null|                    null|                  null|               YES|      NO|         null|\n",
      "|    metastore|      public|        PARTITIONS|BASE TABLE|                        null|                null|                     null|                    null|                  null|               YES|      NO|         null|\n",
      "|    metastore|      public|    PARTITION_KEYS|BASE TABLE|                        null|                null|                     null|                    null|                  null|               YES|      NO|         null|\n",
      "|    metastore|      public|    NUCLEUS_TABLES|BASE TABLE|                        null|                null|                     null|                    null|                  null|               YES|      NO|         null|\n",
      "|    metastore|      public|PARTITION_KEY_VALS|BASE TABLE|                        null|                null|                     null|                    null|                  null|               YES|      NO|         null|\n",
      "|    metastore|      public|  PARTITION_EVENTS|BASE TABLE|                        null|                null|                     null|                    null|                  null|               YES|      NO|         null|\n",
      "|    metastore|      public|             CTLGS|BASE TABLE|                        null|                null|                     null|                    null|                  null|               YES|      NO|         null|\n",
      "|    metastore|      public|    BUCKETING_COLS|BASE TABLE|                        null|                null|                     null|                    null|                  null|               YES|      NO|         null|\n",
      "|    metastore|      public|               CDS|BASE TABLE|                        null|                null|                     null|                    null|                  null|               YES|      NO|         null|\n",
      "|    metastore|      public|   DATABASE_PARAMS|BASE TABLE|                        null|                null|                     null|                    null|                  null|               YES|      NO|         null|\n",
      "|    metastore|      public|        PART_PRIVS|BASE TABLE|                        null|                null|                     null|                    null|                  null|               YES|      NO|         null|\n",
      "|    metastore|      public|             ROLES|BASE TABLE|                        null|                null|                     null|                    null|                  null|               YES|      NO|         null|\n",
      "|    metastore|  pg_catalog|  pg_foreign_table|BASE TABLE|                        null|                null|                     null|                    null|                  null|               YES|      NO|         null|\n",
      "|    metastore|      public|    PART_COL_PRIVS|BASE TABLE|                        null|                null|                     null|                    null|                  null|               YES|      NO|         null|\n",
      "|    metastore|      public|               SDS|BASE TABLE|                        null|                null|                     null|                    null|                  null|               YES|      NO|         null|\n",
      "|    metastore|      public|      SERDE_PARAMS|BASE TABLE|                        null|                null|                     null|                    null|                  null|               YES|      NO|         null|\n",
      "+-------------+------------+------------------+----------+----------------------------+--------------------+-------------------------+------------------------+----------------------+------------------+--------+-------------+\n",
      "only showing top 20 rows\n",
      "\n"
     ]
    }
   ],
   "source": [
    "q = spark.sql(\"select * from inforamtion_table2\")\n",
    "q.show()"
   ]
  },
  {
   "cell_type": "code",
   "execution_count": null,
   "id": "ee370d26-3917-41d6-8126-5d601b340fe1",
   "metadata": {},
   "outputs": [],
   "source": []
  }
 ],
 "metadata": {
  "kernelspec": {
   "display_name": "Python 3 (ipykernel)",
   "language": "python",
   "name": "python3"
  },
  "language_info": {
   "codemirror_mode": {
    "name": "ipython",
    "version": 3
   },
   "file_extension": ".py",
   "mimetype": "text/x-python",
   "name": "python",
   "nbconvert_exporter": "python",
   "pygments_lexer": "ipython3",
   "version": "3.11.6"
  }
 },
 "nbformat": 4,
 "nbformat_minor": 5
}
